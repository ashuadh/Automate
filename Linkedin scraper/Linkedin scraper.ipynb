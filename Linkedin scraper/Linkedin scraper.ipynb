{
 "cells": [
  {
   "cell_type": "code",
   "execution_count": 1,
   "metadata": {},
   "outputs": [],
   "source": [
    "import selenium as se\n",
    "from selenium import webdriver\n",
    "from selenium.webdriver.common.keys import Keys\n",
    "from nltk import tokenize\n",
    "import parameters\n",
    "from time import sleep\n",
    "from parsel import Selector\n",
    "import csv\n",
    "import pandas as pd"
   ]
  },
  {
   "cell_type": "code",
   "execution_count": 2,
   "metadata": {},
   "outputs": [],
   "source": [
    "driver = webdriver.Chrome(\"/usr/bin/chromedriver\")\n",
    "driver.get('https://www.linkedin.com')\n",
    "driver.maximize_window()\n",
    "sleep(1)"
   ]
  },
  {
   "cell_type": "code",
   "execution_count": 3,
   "metadata": {},
   "outputs": [],
   "source": [
    "email = driver.find_element_by_name('session_key')\n",
    "email.send_keys(parameters.email)\n",
    "sleep(1)"
   ]
  },
  {
   "cell_type": "code",
   "execution_count": 4,
   "metadata": {},
   "outputs": [],
   "source": [
    "passwd = driver.find_element_by_name('session_password')\n",
    "passwd.send_keys(parameters.passwd)\n",
    "sleep(1)"
   ]
  },
  {
   "cell_type": "code",
   "execution_count": 5,
   "metadata": {},
   "outputs": [],
   "source": [
    "sign_in = driver.find_element_by_class_name('sign-in-form__submit-btn')\n",
    "sign_in.click()\n",
    "sleep(1)"
   ]
  },
  {
   "cell_type": "code",
   "execution_count": 6,
   "metadata": {},
   "outputs": [],
   "source": [
    "driver.get('https://www.google.com')\n",
    "sleep(3)"
   ]
  },
  {
   "cell_type": "code",
   "execution_count": 7,
   "metadata": {},
   "outputs": [],
   "source": [
    "# locate search form by_name\n",
    "search_query = driver.find_element_by_name('q')\n",
    "\n",
    "# send_keys() to simulate the search text key strokes\n",
    "search_query.send_keys(parameters.query)\n",
    "\n",
    "sleep(1)\n",
    "\n",
    "# .send_keys() to simulate the return key \n",
    "search_query.send_keys(Keys.RETURN)\n",
    "sleep(3)"
   ]
  },
  {
   "cell_type": "code",
   "execution_count": 8,
   "metadata": {},
   "outputs": [
    {
     "name": "stdout",
     "output_type": "stream",
     "text": [
      "https://www.linkedin.com/in/siddhant-garg\n"
     ]
    }
   ],
   "source": [
    "# locate URL by_class_name\n",
    "linkedin_urls = driver.find_elements_by_class_name('iUh30')\n",
    "url = linkedin_urls[0].text\n",
    "url = 'https://' + url.split(' ')[0] + \"/in/\" + url.split(' ')[2]\n",
    "print(url)\n",
    "sleep(1)"
   ]
  },
  {
   "cell_type": "code",
   "execution_count": 9,
   "metadata": {},
   "outputs": [],
   "source": [
    "driver.get(url)\n",
    "sleep(1)\n",
    "sel = Selector(text = driver.page_source)\n",
    "sleep(0.5)\n",
    "#driver.quit()"
   ]
  },
  {
   "cell_type": "code",
   "execution_count": 10,
   "metadata": {},
   "outputs": [
    {
     "data": {
      "text/plain": [
       "\"\\n# printing the output to the terminal\\nprint('\\n')\\nprint('Name: ' + name)\\nprint('Job Title: ' + job_title)\\nprint('Company: ' + company)\\nprint('College: ' + college)\\nprint('Location: ' + location)\\nprint('URL: ' + linkedin_url)\\nprint('\\n')\\n\""
      ]
     },
     "execution_count": 10,
     "metadata": {},
     "output_type": "execute_result"
    }
   ],
   "source": [
    "'''\n",
    "# xpath to extract the text from the class containing the name\n",
    "name = sel.xpath('//*[starts-with(@class, \"pv-top-card-section__name\")]/text()').extract_first()\n",
    "\n",
    "if name:\n",
    "    name = name.strip()\n",
    "\n",
    "\n",
    "# xpath to extract the text from the class containing the job title\n",
    "job_title = sel.xpath('//*[starts-with(@class, \"pv-top-card-section__headline\")]/text()').extract_first()\n",
    "\n",
    "if job_title:\n",
    "    job_title = job_title.strip()\n",
    "\n",
    "\n",
    "# xpath to extract the text from the class containing the company\n",
    "company = sel.xpath('//*[starts-with(@class, \"pv-top-card-v2-section__entity-name pv-top-card-v2-section__company-name\")]/text()').extract_first()\n",
    "\n",
    "if company:\n",
    "    company = company.strip()\n",
    "\n",
    "\n",
    "# xpath to extract the text from the class containing the college\n",
    "college = sel.xpath('//*[starts-with(@class, \"pv-top-card-v2-section__entity-name pv-top-card-v2-section__school-name\")]/text()').extract_first()\n",
    "\n",
    "if college:\n",
    "    college = college.strip()\n",
    "\n",
    "\n",
    "# xpath to extract the text from the class containing the location\n",
    "location = sel.xpath('//*[starts-with(@class, \"pv-top-card-section__location\")]/text()').extract_first()\n",
    "\n",
    "if location:\n",
    "    location = location.strip()\n",
    "\n",
    "\n",
    "url = driver.current_url\n",
    "'''\n",
    "'''\n",
    "# printing the output to the terminal\n",
    "print('\\n')\n",
    "print('Name: ' + name)\n",
    "print('Job Title: ' + job_title)\n",
    "print('Company: ' + company)\n",
    "print('College: ' + college)\n",
    "print('Location: ' + location)\n",
    "print('URL: ' + linkedin_url)\n",
    "print('\\n')\n",
    "'''"
   ]
  },
  {
   "cell_type": "code",
   "execution_count": 11,
   "metadata": {},
   "outputs": [],
   "source": [
    "name = driver.find_element_by_class_name('break-words').text\n",
    "job = driver.find_element_by_class_name('t-18').text\n",
    "location = driver.find_element_by_class_name('inline-block').text\n",
    "college = driver.find_element_by_id('ember90').text"
   ]
  },
  {
   "cell_type": "code",
   "execution_count": 12,
   "metadata": {},
   "outputs": [
    {
     "name": "stdout",
     "output_type": "stream",
     "text": [
      "Name: Siddhant Garg\n",
      "Job: Applied Scientist Intern at Amazon\n",
      "Location: Madison, Wisconsin\n",
      "College: University of Wisconsin-Madison\n",
      "Profile Link: https://www.linkedin.com/in/siddhant-garg\n"
     ]
    }
   ],
   "source": [
    "print(\"Name: \" + str(name))\n",
    "print(\"Job: \" + str(job))\n",
    "print(\"Location: \" + str(location))\n",
    "print(\"College: \" + str(college))\n",
    "print(\"Profile Link: \" + str(url))"
   ]
  },
  {
   "cell_type": "code",
   "execution_count": 13,
   "metadata": {},
   "outputs": [],
   "source": [
    "driver.quit()"
   ]
  },
  {
   "cell_type": "code",
   "execution_count": 14,
   "metadata": {},
   "outputs": [
    {
     "data": {
      "text/plain": [
       "'\\n# defining new variable passing two parameters\\nfieldnames = [\"Name\",\"Job\", \"Location\", \"College\",\"Profile Link\"]\\nwith open(parameters.file_name, \\'wb\\') as file:\\n    writer = csv.DictWriter(file, fieldnames = fieldnames)\\n    writer.writeheader()\\n    writer.writerow({\\'Name\\': name, \\'Job\\' : job, \\'Location\\': location, \\'College\\': college, \\'Profile Link\\': url})\\n'"
      ]
     },
     "execution_count": 14,
     "metadata": {},
     "output_type": "execute_result"
    }
   ],
   "source": [
    "'''\n",
    "# defining new variable passing two parameters\n",
    "fieldnames = [\"Name\",\"Job\", \"Location\", \"College\",\"Profile Link\"]\n",
    "with open(parameters.file_name, 'wb') as file:\n",
    "    writer = csv.DictWriter(file, fieldnames = fieldnames)\n",
    "    writer.writeheader()\n",
    "    writer.writerow({'Name': name, 'Job' : job, 'Location': location, 'College': college, 'Profile Link': url})\n",
    "'''\n"
   ]
  },
  {
   "cell_type": "code",
   "execution_count": 15,
   "metadata": {},
   "outputs": [],
   "source": [
    "df = pd.DataFrame({'Name': name, 'Job' : job, 'Location': location, 'College': college, 'Profile Link': url}, index = [1])"
   ]
  },
  {
   "cell_type": "code",
   "execution_count": 16,
   "metadata": {},
   "outputs": [
    {
     "data": {
      "text/html": [
       "<div>\n",
       "<style scoped>\n",
       "    .dataframe tbody tr th:only-of-type {\n",
       "        vertical-align: middle;\n",
       "    }\n",
       "\n",
       "    .dataframe tbody tr th {\n",
       "        vertical-align: top;\n",
       "    }\n",
       "\n",
       "    .dataframe thead th {\n",
       "        text-align: right;\n",
       "    }\n",
       "</style>\n",
       "<table border=\"1\" class=\"dataframe\">\n",
       "  <thead>\n",
       "    <tr style=\"text-align: right;\">\n",
       "      <th></th>\n",
       "      <th>Name</th>\n",
       "      <th>Job</th>\n",
       "      <th>Location</th>\n",
       "      <th>College</th>\n",
       "      <th>Profile Link</th>\n",
       "    </tr>\n",
       "  </thead>\n",
       "  <tbody>\n",
       "    <tr>\n",
       "      <td>1</td>\n",
       "      <td>Siddhant Garg</td>\n",
       "      <td>Applied Scientist Intern at Amazon</td>\n",
       "      <td>Madison, Wisconsin</td>\n",
       "      <td>University of Wisconsin-Madison</td>\n",
       "      <td>https://www.linkedin.com/in/siddhant-garg</td>\n",
       "    </tr>\n",
       "  </tbody>\n",
       "</table>\n",
       "</div>"
      ],
      "text/plain": [
       "            Name                                 Job            Location  \\\n",
       "1  Siddhant Garg  Applied Scientist Intern at Amazon  Madison, Wisconsin   \n",
       "\n",
       "                           College                               Profile Link  \n",
       "1  University of Wisconsin-Madison  https://www.linkedin.com/in/siddhant-garg  "
      ]
     },
     "execution_count": 16,
     "metadata": {},
     "output_type": "execute_result"
    }
   ],
   "source": [
    "df.head()"
   ]
  },
  {
   "cell_type": "code",
   "execution_count": 17,
   "metadata": {},
   "outputs": [],
   "source": [
    "df.to_csv(parameters.file_name, index=False)"
   ]
  },
  {
   "cell_type": "code",
   "execution_count": null,
   "metadata": {},
   "outputs": [],
   "source": []
  }
 ],
 "metadata": {
  "kernelspec": {
   "display_name": "Python 3",
   "language": "python",
   "name": "python3"
  },
  "language_info": {
   "codemirror_mode": {
    "name": "ipython",
    "version": 3
   },
   "file_extension": ".py",
   "mimetype": "text/x-python",
   "name": "python",
   "nbconvert_exporter": "python",
   "pygments_lexer": "ipython3",
   "version": "3.7.4"
  }
 },
 "nbformat": 4,
 "nbformat_minor": 2
}
